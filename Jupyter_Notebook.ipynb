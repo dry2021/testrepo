{
  "cells": [
    {
      "cell_type": "markdown",
      "metadata": {},
      "source": [
        "<center>\n",
        "    <img src=\"https://s3-api.us-geo.objectstorage.softlayer.net/cf-courses-data/CognitiveClass/Logos/organization_logo/organization_logo.png\" width=\"300\" alt=\"cognitiveclass.ai logo\"  />\n",
        "</center>\n"
      ]
    },
    {
      "cell_type": "markdown",
      "metadata": {},
      "source": [
        "#### Add your code below following the instructions given in the course\n"
      ]
    },
    {
      "cell_type": "markdown",
      "metadata": {},
      "source": [
        "# My Jupyter Notebook on IBM Watson Studio"
      ]
    },
    {
      "cell_type": "markdown",
      "metadata": {},
      "source": [
        "**Andrey**"
      ]
    },
    {
      "cell_type": "markdown",
      "metadata": {},
      "source": [
        "100% Human"
      ]
    },
    {
      "cell_type": "markdown",
      "metadata": {},
      "source": [
        "_I am interested in data science because I love to gain insights from data_"
      ]
    },
    {
      "cell_type": "markdown",
      "metadata": {},
      "source": [
        "### The following code tests the Gauss formula"
      ]
    },
    {
      "cell_type": "code",
      "execution_count": 4,
      "metadata": {
        "trusted": true
      },
      "outputs": [
        {
          "data": {
            "text/plain": [
              "True"
            ]
          },
          "execution_count": 4,
          "metadata": {},
          "output_type": "execute_result"
        }
      ],
      "source": [
        "def gauss(n):\n",
        "    return (n*(n+1))/2\n",
        "gauss(100) == sum(range(101))"
      ]
    },
    {
      "cell_type": "markdown",
      "metadata": {},
      "source": [
        "* 1\n",
        "* 3\n",
        "* 4\n",
        "* 2"
      ]
    }
  ],
  "metadata": {
    "kernelspec": {
      "display_name": "Pyolite",
      "language": "python",
      "name": "python"
    },
    "language_info": {
      "codemirror_mode": {
        "name": "python",
        "version": 3
      },
      "file_extension": ".py",
      "mimetype": "text/x-python",
      "name": "python",
      "nbconvert_exporter": "python",
      "pygments_lexer": "ipython3",
      "version": "3.8"
    }
  },
  "nbformat": 4,
  "nbformat_minor": 4
}
